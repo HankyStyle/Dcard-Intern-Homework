{
 "cells": [
  {
   "attachments": {},
   "cell_type": "markdown",
   "metadata": {},
   "source": [
    "## Using Auto-Sklearn for Like Prediction with Numerical/Categorical Features"
   ]
  },
  {
   "cell_type": "code",
   "execution_count": 1,
   "metadata": {},
   "outputs": [
    {
     "name": "stdout",
     "output_type": "stream",
     "text": [
      "Requirement already satisfied: auto-sklearn in /user_data/.local/lib/python3.8/site-packages (0.15.0)\n",
      "Requirement already satisfied: setuptools in /usr/local/lib/python3.8/dist-packages (from auto-sklearn) (65.3.0)\n",
      "Requirement already satisfied: typing-extensions in /user_data/.local/lib/python3.8/site-packages (from auto-sklearn) (4.0.1)\n",
      "Requirement already satisfied: distro in /usr/lib/python3/dist-packages (from auto-sklearn) (1.4.0)\n",
      "Requirement already satisfied: numpy>=1.9.0 in /usr/local/lib/python3.8/dist-packages (from auto-sklearn) (1.23.2)\n",
      "Requirement already satisfied: scipy>=1.7.0 in /user_data/.local/lib/python3.8/site-packages (from auto-sklearn) (1.9.3)\n",
      "Requirement already satisfied: joblib in /user_data/.local/lib/python3.8/site-packages (from auto-sklearn) (1.2.0)\n",
      "Requirement already satisfied: scikit-learn<0.25.0,>=0.24.0 in /user_data/.local/lib/python3.8/site-packages (from auto-sklearn) (0.24.2)\n",
      "Requirement already satisfied: dask>=2021.12 in /user_data/.local/lib/python3.8/site-packages (from auto-sklearn) (2023.3.2)\n",
      "Requirement already satisfied: distributed>=2012.12 in /user_data/.local/lib/python3.8/site-packages (from auto-sklearn) (2023.3.2.1)\n",
      "Requirement already satisfied: pyyaml in /user_data/.local/lib/python3.8/site-packages (from auto-sklearn) (6.0)\n",
      "Requirement already satisfied: pandas>=1.0 in /user_data/.local/lib/python3.8/site-packages (from auto-sklearn) (1.5.2)\n",
      "Requirement already satisfied: liac-arff in /user_data/.local/lib/python3.8/site-packages (from auto-sklearn) (2.5.0)\n",
      "Requirement already satisfied: threadpoolctl in /user_data/.local/lib/python3.8/site-packages (from auto-sklearn) (3.1.0)\n",
      "Requirement already satisfied: ConfigSpace<0.5,>=0.4.21 in /user_data/.local/lib/python3.8/site-packages (from auto-sklearn) (0.4.21)\n",
      "Requirement already satisfied: pynisher<0.7,>=0.6.3 in /user_data/.local/lib/python3.8/site-packages (from auto-sklearn) (0.6.4)\n",
      "Requirement already satisfied: pyrfr<0.9,>=0.8.1 in /user_data/.local/lib/python3.8/site-packages (from auto-sklearn) (0.8.3)\n",
      "Requirement already satisfied: smac<1.3,>=1.2 in /user_data/.local/lib/python3.8/site-packages (from auto-sklearn) (1.2)\n",
      "Requirement already satisfied: click>=7.0 in /user_data/.local/lib/python3.8/site-packages (from dask>=2021.12->auto-sklearn) (8.0.3)\n",
      "Requirement already satisfied: cloudpickle>=1.1.1 in /user_data/.local/lib/python3.8/site-packages (from dask>=2021.12->auto-sklearn) (2.2.1)\n",
      "Requirement already satisfied: fsspec>=0.6.0 in /user_data/.local/lib/python3.8/site-packages (from dask>=2021.12->auto-sklearn) (2022.11.0)\n",
      "Requirement already satisfied: packaging>=20.0 in /usr/local/lib/python3.8/dist-packages (from dask>=2021.12->auto-sklearn) (21.3)\n",
      "Requirement already satisfied: partd>=1.2.0 in /user_data/.local/lib/python3.8/site-packages (from dask>=2021.12->auto-sklearn) (1.3.0)\n",
      "Requirement already satisfied: toolz>=0.8.2 in /user_data/.local/lib/python3.8/site-packages (from dask>=2021.12->auto-sklearn) (0.12.0)\n",
      "Requirement already satisfied: importlib-metadata>=4.13.0 in /user_data/.local/lib/python3.8/site-packages (from dask>=2021.12->auto-sklearn) (6.1.0)\n",
      "Requirement already satisfied: jinja2>=2.10.3 in /user_data/.local/lib/python3.8/site-packages (from distributed>=2012.12->auto-sklearn) (3.0.3)\n",
      "Requirement already satisfied: locket>=1.0.0 in /user_data/.local/lib/python3.8/site-packages (from distributed>=2012.12->auto-sklearn) (1.0.0)\n",
      "Requirement already satisfied: msgpack>=1.0.0 in /user_data/.local/lib/python3.8/site-packages (from distributed>=2012.12->auto-sklearn) (1.0.5)\n",
      "Requirement already satisfied: psutil>=5.7.0 in /usr/local/lib/python3.8/dist-packages (from distributed>=2012.12->auto-sklearn) (5.9.4)\n",
      "Requirement already satisfied: sortedcontainers>=2.0.5 in /user_data/.local/lib/python3.8/site-packages (from distributed>=2012.12->auto-sklearn) (2.4.0)\n",
      "Requirement already satisfied: tblib>=1.6.0 in /user_data/.local/lib/python3.8/site-packages (from distributed>=2012.12->auto-sklearn) (1.7.0)\n",
      "Requirement already satisfied: tornado>=6.0.3 in /usr/local/lib/python3.8/dist-packages (from distributed>=2012.12->auto-sklearn) (6.2)\n",
      "Requirement already satisfied: urllib3>=1.24.3 in /user_data/.local/lib/python3.8/site-packages (from distributed>=2012.12->auto-sklearn) (1.26.13)\n",
      "Requirement already satisfied: zict>=2.1.0 in /user_data/.local/lib/python3.8/site-packages (from distributed>=2012.12->auto-sklearn) (2.2.0)\n",
      "Requirement already satisfied: python-dateutil>=2.8.1 in /usr/local/lib/python3.8/dist-packages (from pandas>=1.0->auto-sklearn) (2.8.2)\n",
      "Requirement already satisfied: pytz>=2020.1 in /usr/local/lib/python3.8/dist-packages (from pandas>=1.0->auto-sklearn) (2022.6)\n",
      "Requirement already satisfied: cython in /user_data/.local/lib/python3.8/site-packages (from ConfigSpace<0.5,>=0.4.21->auto-sklearn) (0.29.32)\n",
      "Requirement already satisfied: pyparsing in /user_data/.local/lib/python3.8/site-packages (from ConfigSpace<0.5,>=0.4.21->auto-sklearn) (3.0.6)\n",
      "Requirement already satisfied: emcee>=3.0.0 in /user_data/.local/lib/python3.8/site-packages (from smac<1.3,>=1.2->auto-sklearn) (3.1.4)\n",
      "Requirement already satisfied: zipp>=0.5 in /usr/local/lib/python3.8/dist-packages (from importlib-metadata>=4.13.0->dask>=2021.12->auto-sklearn) (3.8.1)\n",
      "Requirement already satisfied: MarkupSafe>=2.0 in /user_data/.local/lib/python3.8/site-packages (from jinja2>=2.10.3->distributed>=2012.12->auto-sklearn) (2.0.1)\n",
      "Requirement already satisfied: heapdict in /user_data/.local/lib/python3.8/site-packages (from zict>=2.1.0->distributed>=2012.12->auto-sklearn) (1.0.1)\n",
      "Requirement already satisfied: six>=1.5 in /user_data/.local/lib/python3.8/site-packages (from python-dateutil>=2.8.1->pandas>=1.0->auto-sklearn) (1.16.0)\n"
     ]
    }
   ],
   "source": [
    "!pip install auto-sklearn"
   ]
  },
  {
   "attachments": {},
   "cell_type": "markdown",
   "metadata": {},
   "source": [
    "## Data Preprocessing"
   ]
  },
  {
   "attachments": {},
   "cell_type": "markdown",
   "metadata": {},
   "source": [
    "### Read File"
   ]
  },
  {
   "cell_type": "code",
   "execution_count": 2,
   "metadata": {},
   "outputs": [
    {
     "data": {
      "text/html": [
       "<div>\n",
       "<style scoped>\n",
       "    .dataframe tbody tr th:only-of-type {\n",
       "        vertical-align: middle;\n",
       "    }\n",
       "\n",
       "    .dataframe tbody tr th {\n",
       "        vertical-align: top;\n",
       "    }\n",
       "\n",
       "    .dataframe thead th {\n",
       "        text-align: right;\n",
       "    }\n",
       "</style>\n",
       "<table border=\"1\" class=\"dataframe\">\n",
       "  <thead>\n",
       "    <tr style=\"text-align: right;\">\n",
       "      <th></th>\n",
       "      <th>title</th>\n",
       "      <th>created_at</th>\n",
       "      <th>like_count_1h</th>\n",
       "      <th>like_count_2h</th>\n",
       "      <th>like_count_3h</th>\n",
       "      <th>like_count_4h</th>\n",
       "      <th>like_count_5h</th>\n",
       "      <th>like_count_6h</th>\n",
       "      <th>comment_count_1h</th>\n",
       "      <th>comment_count_2h</th>\n",
       "      <th>comment_count_3h</th>\n",
       "      <th>comment_count_4h</th>\n",
       "      <th>comment_count_5h</th>\n",
       "      <th>comment_count_6h</th>\n",
       "      <th>forum_id</th>\n",
       "      <th>author_id</th>\n",
       "      <th>forum_stats</th>\n",
       "      <th>like_count_24h</th>\n",
       "    </tr>\n",
       "  </thead>\n",
       "  <tbody>\n",
       "    <tr>\n",
       "      <th>0</th>\n",
       "      <td>我的排骨湯</td>\n",
       "      <td>2022-10-05 14:20:21 UTC</td>\n",
       "      <td>12</td>\n",
       "      <td>15</td>\n",
       "      <td>15</td>\n",
       "      <td>15</td>\n",
       "      <td>16</td>\n",
       "      <td>18</td>\n",
       "      <td>10</td>\n",
       "      <td>10</td>\n",
       "      <td>10</td>\n",
       "      <td>10</td>\n",
       "      <td>10</td>\n",
       "      <td>10</td>\n",
       "      <td>598518</td>\n",
       "      <td>428921</td>\n",
       "      <td>0.7</td>\n",
       "      <td>26</td>\n",
       "    </tr>\n",
       "    <tr>\n",
       "      <th>1</th>\n",
       "      <td>#請益 婚禮穿搭</td>\n",
       "      <td>2022-10-05 14:28:13 UTC</td>\n",
       "      <td>0</td>\n",
       "      <td>0</td>\n",
       "      <td>3</td>\n",
       "      <td>4</td>\n",
       "      <td>4</td>\n",
       "      <td>4</td>\n",
       "      <td>2</td>\n",
       "      <td>5</td>\n",
       "      <td>8</td>\n",
       "      <td>9</td>\n",
       "      <td>9</td>\n",
       "      <td>9</td>\n",
       "      <td>399302</td>\n",
       "      <td>650840</td>\n",
       "      <td>63.9</td>\n",
       "      <td>11</td>\n",
       "    </tr>\n",
       "    <tr>\n",
       "      <th>2</th>\n",
       "      <td>無謂的啦啦隊</td>\n",
       "      <td>2022-10-06 07:18:22 UTC</td>\n",
       "      <td>3</td>\n",
       "      <td>7</td>\n",
       "      <td>8</td>\n",
       "      <td>11</td>\n",
       "      <td>12</td>\n",
       "      <td>14</td>\n",
       "      <td>1</td>\n",
       "      <td>1</td>\n",
       "      <td>2</td>\n",
       "      <td>3</td>\n",
       "      <td>3</td>\n",
       "      <td>3</td>\n",
       "      <td>650776</td>\n",
       "      <td>717288</td>\n",
       "      <td>19.2</td>\n",
       "      <td>19</td>\n",
       "    </tr>\n",
       "    <tr>\n",
       "      <th>3</th>\n",
       "      <td>文學理論 課本</td>\n",
       "      <td>2022-09-20 11:39:14 UTC</td>\n",
       "      <td>2</td>\n",
       "      <td>7</td>\n",
       "      <td>11</td>\n",
       "      <td>24</td>\n",
       "      <td>26</td>\n",
       "      <td>26</td>\n",
       "      <td>2</td>\n",
       "      <td>2</td>\n",
       "      <td>8</td>\n",
       "      <td>32</td>\n",
       "      <td>38</td>\n",
       "      <td>63</td>\n",
       "      <td>471023</td>\n",
       "      <td>173889</td>\n",
       "      <td>7.9</td>\n",
       "      <td>29</td>\n",
       "    </tr>\n",
       "    <tr>\n",
       "      <th>4</th>\n",
       "      <td>一般課程</td>\n",
       "      <td>2022-09-05 10:18:24 UTC</td>\n",
       "      <td>3</td>\n",
       "      <td>7</td>\n",
       "      <td>7</td>\n",
       "      <td>10</td>\n",
       "      <td>10</td>\n",
       "      <td>11</td>\n",
       "      <td>15</td>\n",
       "      <td>26</td>\n",
       "      <td>35</td>\n",
       "      <td>38</td>\n",
       "      <td>48</td>\n",
       "      <td>49</td>\n",
       "      <td>230184</td>\n",
       "      <td>594332</td>\n",
       "      <td>36.2</td>\n",
       "      <td>16</td>\n",
       "    </tr>\n",
       "  </tbody>\n",
       "</table>\n",
       "</div>"
      ],
      "text/plain": [
       "      title               created_at  like_count_1h  like_count_2h  \\\n",
       "0     我的排骨湯  2022-10-05 14:20:21 UTC             12             15   \n",
       "1  #請益 婚禮穿搭  2022-10-05 14:28:13 UTC              0              0   \n",
       "2    無謂的啦啦隊  2022-10-06 07:18:22 UTC              3              7   \n",
       "3   文學理論 課本  2022-09-20 11:39:14 UTC              2              7   \n",
       "4      一般課程  2022-09-05 10:18:24 UTC              3              7   \n",
       "\n",
       "   like_count_3h  like_count_4h  like_count_5h  like_count_6h  \\\n",
       "0             15             15             16             18   \n",
       "1              3              4              4              4   \n",
       "2              8             11             12             14   \n",
       "3             11             24             26             26   \n",
       "4              7             10             10             11   \n",
       "\n",
       "   comment_count_1h  comment_count_2h  comment_count_3h  comment_count_4h  \\\n",
       "0                10                10                10                10   \n",
       "1                 2                 5                 8                 9   \n",
       "2                 1                 1                 2                 3   \n",
       "3                 2                 2                 8                32   \n",
       "4                15                26                35                38   \n",
       "\n",
       "   comment_count_5h  comment_count_6h  forum_id  author_id  forum_stats  \\\n",
       "0                10                10    598518     428921          0.7   \n",
       "1                 9                 9    399302     650840         63.9   \n",
       "2                 3                 3    650776     717288         19.2   \n",
       "3                38                63    471023     173889          7.9   \n",
       "4                48                49    230184     594332         36.2   \n",
       "\n",
       "   like_count_24h  \n",
       "0              26  \n",
       "1              11  \n",
       "2              19  \n",
       "3              29  \n",
       "4              16  "
      ]
     },
     "execution_count": 2,
     "metadata": {},
     "output_type": "execute_result"
    }
   ],
   "source": [
    "import pandas as pd\n",
    "import numpy as np\n",
    "train = pd.read_csv('../../raw_data/intern_homework_train_dataset.csv')\n",
    "test = pd.read_csv('../../raw_data/intern_homework_public_test_dataset.csv')\n",
    "train.head()"
   ]
  },
  {
   "cell_type": "code",
   "execution_count": 3,
   "metadata": {},
   "outputs": [],
   "source": [
    "train = train\n",
    "test = test"
   ]
  },
  {
   "attachments": {},
   "cell_type": "markdown",
   "metadata": {},
   "source": [
    "### Feature Selection"
   ]
  },
  {
   "attachments": {},
   "cell_type": "markdown",
   "metadata": {},
   "source": [
    "挑選 Label"
   ]
  },
  {
   "cell_type": "code",
   "execution_count": 4,
   "metadata": {},
   "outputs": [
    {
     "data": {
      "text/plain": [
       "0        26\n",
       "1        11\n",
       "2        19\n",
       "3        29\n",
       "4        16\n",
       "         ..\n",
       "49995    11\n",
       "49996     5\n",
       "49997    13\n",
       "49998    11\n",
       "49999     5\n",
       "Name: like_count_24h, Length: 50000, dtype: int64"
      ]
     },
     "execution_count": 4,
     "metadata": {},
     "output_type": "execute_result"
    }
   ],
   "source": [
    "train_label = train['like_count_24h']\n",
    "test_label = test['like_count_24h']\n",
    "train_label"
   ]
  },
  {
   "attachments": {},
   "cell_type": "markdown",
   "metadata": {},
   "source": [
    "挑選 Input\n",
    "\n",
    "不考慮 文章標題 / 作者 ID / 看板 ID"
   ]
  },
  {
   "cell_type": "code",
   "execution_count": 5,
   "metadata": {},
   "outputs": [],
   "source": [
    "# 指定要刪除的 column names，並使用 drop 函數將這些 column 刪除\n",
    "drop_columns = ['author_id', 'like_count_24h', 'forum_id', 'title']\n",
    "\n",
    "train_input = train.drop(drop_columns, axis=1)\n",
    "test_input = test.drop(drop_columns, axis=1)"
   ]
  },
  {
   "attachments": {},
   "cell_type": "markdown",
   "metadata": {},
   "source": [
    "### Data Transfromations"
   ]
  },
  {
   "attachments": {},
   "cell_type": "markdown",
   "metadata": {},
   "source": [
    "處理 created_by Feature"
   ]
  },
  {
   "cell_type": "code",
   "execution_count": 6,
   "metadata": {},
   "outputs": [],
   "source": [
    "# 將文章發佈時間 拆成 星期幾 與 小時 的函數\n",
    "def split_date(df, date_column):\n",
    "\n",
    "    # 將 created_by 欄位轉換成日期格式\n",
    "    df[date_column] = pd.to_datetime(df[date_column], utc=True)\n",
    "    \n",
    "    # 新增 星期幾 和 小時 欄位\n",
    "    df['weekday'] = df[date_column].dt.weekday\n",
    "    df['hour'] = df[date_column].dt.hour\n",
    "\n",
    "    # 移除 created_by 欄位\n",
    "    df = df.drop(date_column, axis=1)\n",
    "\n",
    "    # 回傳處理過的資料集\n",
    "    return df"
   ]
  },
  {
   "cell_type": "code",
   "execution_count": 7,
   "metadata": {},
   "outputs": [
    {
     "data": {
      "text/html": [
       "<div>\n",
       "<style scoped>\n",
       "    .dataframe tbody tr th:only-of-type {\n",
       "        vertical-align: middle;\n",
       "    }\n",
       "\n",
       "    .dataframe tbody tr th {\n",
       "        vertical-align: top;\n",
       "    }\n",
       "\n",
       "    .dataframe thead th {\n",
       "        text-align: right;\n",
       "    }\n",
       "</style>\n",
       "<table border=\"1\" class=\"dataframe\">\n",
       "  <thead>\n",
       "    <tr style=\"text-align: right;\">\n",
       "      <th></th>\n",
       "      <th>like_count_1h</th>\n",
       "      <th>like_count_2h</th>\n",
       "      <th>like_count_3h</th>\n",
       "      <th>like_count_4h</th>\n",
       "      <th>like_count_5h</th>\n",
       "      <th>like_count_6h</th>\n",
       "      <th>comment_count_1h</th>\n",
       "      <th>comment_count_2h</th>\n",
       "      <th>comment_count_3h</th>\n",
       "      <th>comment_count_4h</th>\n",
       "      <th>comment_count_5h</th>\n",
       "      <th>comment_count_6h</th>\n",
       "      <th>forum_stats</th>\n",
       "      <th>weekday</th>\n",
       "      <th>hour</th>\n",
       "    </tr>\n",
       "  </thead>\n",
       "  <tbody>\n",
       "    <tr>\n",
       "      <th>0</th>\n",
       "      <td>12</td>\n",
       "      <td>15</td>\n",
       "      <td>15</td>\n",
       "      <td>15</td>\n",
       "      <td>16</td>\n",
       "      <td>18</td>\n",
       "      <td>10</td>\n",
       "      <td>10</td>\n",
       "      <td>10</td>\n",
       "      <td>10</td>\n",
       "      <td>10</td>\n",
       "      <td>10</td>\n",
       "      <td>0.7</td>\n",
       "      <td>2</td>\n",
       "      <td>14</td>\n",
       "    </tr>\n",
       "    <tr>\n",
       "      <th>1</th>\n",
       "      <td>0</td>\n",
       "      <td>0</td>\n",
       "      <td>3</td>\n",
       "      <td>4</td>\n",
       "      <td>4</td>\n",
       "      <td>4</td>\n",
       "      <td>2</td>\n",
       "      <td>5</td>\n",
       "      <td>8</td>\n",
       "      <td>9</td>\n",
       "      <td>9</td>\n",
       "      <td>9</td>\n",
       "      <td>63.9</td>\n",
       "      <td>2</td>\n",
       "      <td>14</td>\n",
       "    </tr>\n",
       "    <tr>\n",
       "      <th>2</th>\n",
       "      <td>3</td>\n",
       "      <td>7</td>\n",
       "      <td>8</td>\n",
       "      <td>11</td>\n",
       "      <td>12</td>\n",
       "      <td>14</td>\n",
       "      <td>1</td>\n",
       "      <td>1</td>\n",
       "      <td>2</td>\n",
       "      <td>3</td>\n",
       "      <td>3</td>\n",
       "      <td>3</td>\n",
       "      <td>19.2</td>\n",
       "      <td>3</td>\n",
       "      <td>7</td>\n",
       "    </tr>\n",
       "    <tr>\n",
       "      <th>3</th>\n",
       "      <td>2</td>\n",
       "      <td>7</td>\n",
       "      <td>11</td>\n",
       "      <td>24</td>\n",
       "      <td>26</td>\n",
       "      <td>26</td>\n",
       "      <td>2</td>\n",
       "      <td>2</td>\n",
       "      <td>8</td>\n",
       "      <td>32</td>\n",
       "      <td>38</td>\n",
       "      <td>63</td>\n",
       "      <td>7.9</td>\n",
       "      <td>1</td>\n",
       "      <td>11</td>\n",
       "    </tr>\n",
       "    <tr>\n",
       "      <th>4</th>\n",
       "      <td>3</td>\n",
       "      <td>7</td>\n",
       "      <td>7</td>\n",
       "      <td>10</td>\n",
       "      <td>10</td>\n",
       "      <td>11</td>\n",
       "      <td>15</td>\n",
       "      <td>26</td>\n",
       "      <td>35</td>\n",
       "      <td>38</td>\n",
       "      <td>48</td>\n",
       "      <td>49</td>\n",
       "      <td>36.2</td>\n",
       "      <td>0</td>\n",
       "      <td>10</td>\n",
       "    </tr>\n",
       "  </tbody>\n",
       "</table>\n",
       "</div>"
      ],
      "text/plain": [
       "   like_count_1h  like_count_2h  like_count_3h  like_count_4h  like_count_5h  \\\n",
       "0             12             15             15             15             16   \n",
       "1              0              0              3              4              4   \n",
       "2              3              7              8             11             12   \n",
       "3              2              7             11             24             26   \n",
       "4              3              7              7             10             10   \n",
       "\n",
       "   like_count_6h  comment_count_1h  comment_count_2h  comment_count_3h  \\\n",
       "0             18                10                10                10   \n",
       "1              4                 2                 5                 8   \n",
       "2             14                 1                 1                 2   \n",
       "3             26                 2                 2                 8   \n",
       "4             11                15                26                35   \n",
       "\n",
       "   comment_count_4h  comment_count_5h  comment_count_6h  forum_stats  weekday  \\\n",
       "0                10                10                10          0.7        2   \n",
       "1                 9                 9                 9         63.9        2   \n",
       "2                 3                 3                 3         19.2        3   \n",
       "3                32                38                63          7.9        1   \n",
       "4                38                48                49         36.2        0   \n",
       "\n",
       "   hour  \n",
       "0    14  \n",
       "1    14  \n",
       "2     7  \n",
       "3    11  \n",
       "4    10  "
      ]
     },
     "execution_count": 7,
     "metadata": {},
     "output_type": "execute_result"
    }
   ],
   "source": [
    "train_input = split_date(train_input, 'created_at')\n",
    "test_input = split_date(test_input, 'created_at')\n",
    "\n",
    "# 顯示處理過的資料集\n",
    "train_input.head()"
   ]
  },
  {
   "attachments": {},
   "cell_type": "markdown",
   "metadata": {},
   "source": [
    "## Auto Sklearn Training"
   ]
  },
  {
   "cell_type": "code",
   "execution_count": 8,
   "metadata": {},
   "outputs": [],
   "source": [
    "import autosklearn.regression\n",
    "import numpy as np\n",
    "from sklearn.metrics import mean_absolute_percentage_error"
   ]
  },
  {
   "cell_type": "code",
   "execution_count": 10,
   "metadata": {},
   "outputs": [],
   "source": [
    "# 將 X_train, y_train 轉換成 NumPy\n",
    "X_train_np = train_input.to_numpy()\n",
    "y_train_np = train_label.to_numpy()"
   ]
  },
  {
   "cell_type": "code",
   "execution_count": 13,
   "metadata": {},
   "outputs": [
    {
     "data": {
      "text/plain": [
       "array([26, 11, 19, ..., 13, 11,  5])"
      ]
     },
     "execution_count": 13,
     "metadata": {},
     "output_type": "execute_result"
    }
   ],
   "source": [
    "y_train_np"
   ]
  },
  {
   "cell_type": "code",
   "execution_count": 23,
   "metadata": {},
   "outputs": [
    {
     "name": "stdout",
     "output_type": "stream",
     "text": [
      "[WARNING] [2023-04-06 08:47:43,821:Client-EnsembleBuilder] No runs were available to build an ensemble from\n",
      "[WARNING] [2023-04-06 08:48:11,025:Client-EnsembleBuilder] No runs were available to build an ensemble from\n"
     ]
    },
    {
     "data": {
      "text/plain": [
       "AutoSklearnRegressor(ensemble_class=<class 'autosklearn.ensembles.ensemble_selection.EnsembleSelection'>,\n",
       "                     per_run_time_limit=360)"
      ]
     },
     "execution_count": 23,
     "metadata": {},
     "output_type": "execute_result"
    }
   ],
   "source": [
    "reg = autosklearn.regression.AutoSklearnRegressor(time_left_for_this_task=3600,\n",
    "    per_run_time_limit=360,\n",
    "    )\n",
    "reg.fit(X_train_np, y_train_np)"
   ]
  },
  {
   "cell_type": "code",
   "execution_count": 24,
   "metadata": {},
   "outputs": [
    {
     "name": "stdout",
     "output_type": "stream",
     "text": [
      "          rank  ensemble_weight               type      cost    duration\n",
      "model_id                                                                \n",
      "12           1             0.28        extra_trees  0.230904  234.825906\n",
      "10           2             0.30     ard_regression  0.234016    1.663405\n",
      "107          3             0.08     ard_regression  0.238049    0.650381\n",
      "46           4             0.20     ard_regression  0.241541    0.980115\n",
      "15           5             0.14  gradient_boosting  0.292709    2.717881\n"
     ]
    }
   ],
   "source": [
    "print(reg.leaderboard())"
   ]
  },
  {
   "cell_type": "code",
   "execution_count": 27,
   "metadata": {},
   "outputs": [
    {
     "name": "stdout",
     "output_type": "stream",
     "text": [
      "MAPE: 0.7175264923431005\n"
     ]
    }
   ],
   "source": [
    "pred = reg.predict(test_input)\n",
    "MAPE = mean_absolute_percentage_error(test_label.to_numpy(), pred)\n",
    "print(\"MAPE:\", MAPE)"
   ]
  },
  {
   "cell_type": "code",
   "execution_count": 33,
   "metadata": {},
   "outputs": [
    {
     "data": {
      "text/plain": [
       "array([16,  8,  8, ...,  6,  5, 19])"
      ]
     },
     "execution_count": 33,
     "metadata": {},
     "output_type": "execute_result"
    }
   ],
   "source": [
    "test_label.to_numpy()"
   ]
  },
  {
   "cell_type": "code",
   "execution_count": 34,
   "metadata": {},
   "outputs": [
    {
     "data": {
      "text/plain": [
       "array([32.26272988, 32.62079746, 19.24459457, ..., 12.25134993,\n",
       "        6.7863678 , 27.35593581])"
      ]
     },
     "execution_count": 34,
     "metadata": {},
     "output_type": "execute_result"
    }
   ],
   "source": [
    "pred"
   ]
  }
 ],
 "metadata": {
  "kernelspec": {
   "display_name": "Python 3",
   "language": "python",
   "name": "python3"
  },
  "language_info": {
   "codemirror_mode": {
    "name": "ipython",
    "version": 3
   },
   "file_extension": ".py",
   "mimetype": "text/x-python",
   "name": "python",
   "nbconvert_exporter": "python",
   "pygments_lexer": "ipython3",
   "version": "3.8.10"
  },
  "orig_nbformat": 4
 },
 "nbformat": 4,
 "nbformat_minor": 2
}
