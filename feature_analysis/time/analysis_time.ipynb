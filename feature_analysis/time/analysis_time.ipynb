{
 "cells": [
  {
   "attachments": {},
   "cell_type": "markdown",
   "metadata": {},
   "source": [
    "# 特徵分析 文章發佈時間\n",
    "透過 pandas/numpy/matplotlib 觀察文章發佈時間的分布 與 Label 之間的關係"
   ]
  },
  {
   "attachments": {},
   "cell_type": "markdown",
   "metadata": {},
   "source": [
    "### 基本 Import 套件下載"
   ]
  },
  {
   "cell_type": "code",
   "execution_count": null,
   "metadata": {},
   "outputs": [],
   "source": [
    "!pip install pandas\n",
    "!pip install sklearn\n",
    "!pip install numpy\n",
    "!pip install -U matplotlib"
   ]
  },
  {
   "cell_type": "code",
   "execution_count": 1,
   "metadata": {},
   "outputs": [],
   "source": [
    "import pandas as pd\n",
    "import numpy as np"
   ]
  },
  {
   "attachments": {},
   "cell_type": "markdown",
   "metadata": {},
   "source": [
    "### 載入資料"
   ]
  },
  {
   "cell_type": "code",
   "execution_count": 2,
   "metadata": {},
   "outputs": [
    {
     "data": {
      "text/html": [
       "<div>\n",
       "<style scoped>\n",
       "    .dataframe tbody tr th:only-of-type {\n",
       "        vertical-align: middle;\n",
       "    }\n",
       "\n",
       "    .dataframe tbody tr th {\n",
       "        vertical-align: top;\n",
       "    }\n",
       "\n",
       "    .dataframe thead th {\n",
       "        text-align: right;\n",
       "    }\n",
       "</style>\n",
       "<table border=\"1\" class=\"dataframe\">\n",
       "  <thead>\n",
       "    <tr style=\"text-align: right;\">\n",
       "      <th></th>\n",
       "      <th>title</th>\n",
       "      <th>created_at</th>\n",
       "      <th>like_count_1h</th>\n",
       "      <th>like_count_2h</th>\n",
       "      <th>like_count_3h</th>\n",
       "      <th>like_count_4h</th>\n",
       "      <th>like_count_5h</th>\n",
       "      <th>like_count_6h</th>\n",
       "      <th>comment_count_1h</th>\n",
       "      <th>comment_count_2h</th>\n",
       "      <th>comment_count_3h</th>\n",
       "      <th>comment_count_4h</th>\n",
       "      <th>comment_count_5h</th>\n",
       "      <th>comment_count_6h</th>\n",
       "      <th>forum_id</th>\n",
       "      <th>author_id</th>\n",
       "      <th>forum_stats</th>\n",
       "      <th>like_count_24h</th>\n",
       "    </tr>\n",
       "  </thead>\n",
       "  <tbody>\n",
       "    <tr>\n",
       "      <th>0</th>\n",
       "      <td>我的排骨湯</td>\n",
       "      <td>2022-10-05 14:20:21 UTC</td>\n",
       "      <td>12</td>\n",
       "      <td>15</td>\n",
       "      <td>15</td>\n",
       "      <td>15</td>\n",
       "      <td>16</td>\n",
       "      <td>18</td>\n",
       "      <td>10</td>\n",
       "      <td>10</td>\n",
       "      <td>10</td>\n",
       "      <td>10</td>\n",
       "      <td>10</td>\n",
       "      <td>10</td>\n",
       "      <td>598518</td>\n",
       "      <td>428921</td>\n",
       "      <td>0.7</td>\n",
       "      <td>26</td>\n",
       "    </tr>\n",
       "    <tr>\n",
       "      <th>1</th>\n",
       "      <td>#請益 婚禮穿搭</td>\n",
       "      <td>2022-10-05 14:28:13 UTC</td>\n",
       "      <td>0</td>\n",
       "      <td>0</td>\n",
       "      <td>3</td>\n",
       "      <td>4</td>\n",
       "      <td>4</td>\n",
       "      <td>4</td>\n",
       "      <td>2</td>\n",
       "      <td>5</td>\n",
       "      <td>8</td>\n",
       "      <td>9</td>\n",
       "      <td>9</td>\n",
       "      <td>9</td>\n",
       "      <td>399302</td>\n",
       "      <td>650840</td>\n",
       "      <td>63.9</td>\n",
       "      <td>11</td>\n",
       "    </tr>\n",
       "    <tr>\n",
       "      <th>2</th>\n",
       "      <td>無謂的啦啦隊</td>\n",
       "      <td>2022-10-06 07:18:22 UTC</td>\n",
       "      <td>3</td>\n",
       "      <td>7</td>\n",
       "      <td>8</td>\n",
       "      <td>11</td>\n",
       "      <td>12</td>\n",
       "      <td>14</td>\n",
       "      <td>1</td>\n",
       "      <td>1</td>\n",
       "      <td>2</td>\n",
       "      <td>3</td>\n",
       "      <td>3</td>\n",
       "      <td>3</td>\n",
       "      <td>650776</td>\n",
       "      <td>717288</td>\n",
       "      <td>19.2</td>\n",
       "      <td>19</td>\n",
       "    </tr>\n",
       "    <tr>\n",
       "      <th>3</th>\n",
       "      <td>文學理論 課本</td>\n",
       "      <td>2022-09-20 11:39:14 UTC</td>\n",
       "      <td>2</td>\n",
       "      <td>7</td>\n",
       "      <td>11</td>\n",
       "      <td>24</td>\n",
       "      <td>26</td>\n",
       "      <td>26</td>\n",
       "      <td>2</td>\n",
       "      <td>2</td>\n",
       "      <td>8</td>\n",
       "      <td>32</td>\n",
       "      <td>38</td>\n",
       "      <td>63</td>\n",
       "      <td>471023</td>\n",
       "      <td>173889</td>\n",
       "      <td>7.9</td>\n",
       "      <td>29</td>\n",
       "    </tr>\n",
       "    <tr>\n",
       "      <th>4</th>\n",
       "      <td>一般課程</td>\n",
       "      <td>2022-09-05 10:18:24 UTC</td>\n",
       "      <td>3</td>\n",
       "      <td>7</td>\n",
       "      <td>7</td>\n",
       "      <td>10</td>\n",
       "      <td>10</td>\n",
       "      <td>11</td>\n",
       "      <td>15</td>\n",
       "      <td>26</td>\n",
       "      <td>35</td>\n",
       "      <td>38</td>\n",
       "      <td>48</td>\n",
       "      <td>49</td>\n",
       "      <td>230184</td>\n",
       "      <td>594332</td>\n",
       "      <td>36.2</td>\n",
       "      <td>16</td>\n",
       "    </tr>\n",
       "  </tbody>\n",
       "</table>\n",
       "</div>"
      ],
      "text/plain": [
       "      title               created_at  like_count_1h  like_count_2h  \\\n",
       "0     我的排骨湯  2022-10-05 14:20:21 UTC             12             15   \n",
       "1  #請益 婚禮穿搭  2022-10-05 14:28:13 UTC              0              0   \n",
       "2    無謂的啦啦隊  2022-10-06 07:18:22 UTC              3              7   \n",
       "3   文學理論 課本  2022-09-20 11:39:14 UTC              2              7   \n",
       "4      一般課程  2022-09-05 10:18:24 UTC              3              7   \n",
       "\n",
       "   like_count_3h  like_count_4h  like_count_5h  like_count_6h  \\\n",
       "0             15             15             16             18   \n",
       "1              3              4              4              4   \n",
       "2              8             11             12             14   \n",
       "3             11             24             26             26   \n",
       "4              7             10             10             11   \n",
       "\n",
       "   comment_count_1h  comment_count_2h  comment_count_3h  comment_count_4h  \\\n",
       "0                10                10                10                10   \n",
       "1                 2                 5                 8                 9   \n",
       "2                 1                 1                 2                 3   \n",
       "3                 2                 2                 8                32   \n",
       "4                15                26                35                38   \n",
       "\n",
       "   comment_count_5h  comment_count_6h  forum_id  author_id  forum_stats  \\\n",
       "0                10                10    598518     428921          0.7   \n",
       "1                 9                 9    399302     650840         63.9   \n",
       "2                 3                 3    650776     717288         19.2   \n",
       "3                38                63    471023     173889          7.9   \n",
       "4                48                49    230184     594332         36.2   \n",
       "\n",
       "   like_count_24h  \n",
       "0              26  \n",
       "1              11  \n",
       "2              19  \n",
       "3              29  \n",
       "4              16  "
      ]
     },
     "execution_count": 2,
     "metadata": {},
     "output_type": "execute_result"
    }
   ],
   "source": [
    "train_df = pd.read_csv('../../raw_data/intern_homework_train_dataset.csv')\n",
    "test_df = pd.read_csv('../../raw_data/intern_homework_public_test_dataset.csv')\n",
    "private_test_df = pd.read_csv('../../raw_data/intern_homework_private_test_dataset.csv')\n",
    "train_df.head()"
   ]
  },
  {
   "attachments": {},
   "cell_type": "markdown",
   "metadata": {},
   "source": [
    "### 資料前處理"
   ]
  },
  {
   "cell_type": "code",
   "execution_count": 3,
   "metadata": {},
   "outputs": [
    {
     "data": {
      "text/html": [
       "<div>\n",
       "<style scoped>\n",
       "    .dataframe tbody tr th:only-of-type {\n",
       "        vertical-align: middle;\n",
       "    }\n",
       "\n",
       "    .dataframe tbody tr th {\n",
       "        vertical-align: top;\n",
       "    }\n",
       "\n",
       "    .dataframe thead th {\n",
       "        text-align: right;\n",
       "    }\n",
       "</style>\n",
       "<table border=\"1\" class=\"dataframe\">\n",
       "  <thead>\n",
       "    <tr style=\"text-align: right;\">\n",
       "      <th></th>\n",
       "      <th>created_at</th>\n",
       "      <th>like_count_24h</th>\n",
       "    </tr>\n",
       "  </thead>\n",
       "  <tbody>\n",
       "    <tr>\n",
       "      <th>0</th>\n",
       "      <td>2022-10-05 14:20:21 UTC</td>\n",
       "      <td>26</td>\n",
       "    </tr>\n",
       "    <tr>\n",
       "      <th>1</th>\n",
       "      <td>2022-10-05 14:28:13 UTC</td>\n",
       "      <td>11</td>\n",
       "    </tr>\n",
       "    <tr>\n",
       "      <th>2</th>\n",
       "      <td>2022-10-06 07:18:22 UTC</td>\n",
       "      <td>19</td>\n",
       "    </tr>\n",
       "    <tr>\n",
       "      <th>3</th>\n",
       "      <td>2022-09-20 11:39:14 UTC</td>\n",
       "      <td>29</td>\n",
       "    </tr>\n",
       "    <tr>\n",
       "      <th>4</th>\n",
       "      <td>2022-09-05 10:18:24 UTC</td>\n",
       "      <td>16</td>\n",
       "    </tr>\n",
       "  </tbody>\n",
       "</table>\n",
       "</div>"
      ],
      "text/plain": [
       "                created_at  like_count_24h\n",
       "0  2022-10-05 14:20:21 UTC              26\n",
       "1  2022-10-05 14:28:13 UTC              11\n",
       "2  2022-10-06 07:18:22 UTC              19\n",
       "3  2022-09-20 11:39:14 UTC              29\n",
       "4  2022-09-05 10:18:24 UTC              16"
      ]
     },
     "execution_count": 3,
     "metadata": {},
     "output_type": "execute_result"
    }
   ],
   "source": [
    "train_df = train_df.loc[:, ['created_at', 'like_count_24h']]\n",
    "test_df = test_df.loc[:, ['created_at', 'like_count_24h']]\n",
    "private_test_df = private_test_df.loc[:, ['created_at']]\n",
    "train_df.head()"
   ]
  },
  {
   "attachments": {},
   "cell_type": "markdown",
   "metadata": {},
   "source": [
    "將 created_at 格式 改為 timestamp 格式  (year-month-day hour:minute:second)"
   ]
  },
  {
   "cell_type": "code",
   "execution_count": 5,
   "metadata": {},
   "outputs": [
    {
     "data": {
      "text/html": [
       "<div>\n",
       "<style scoped>\n",
       "    .dataframe tbody tr th:only-of-type {\n",
       "        vertical-align: middle;\n",
       "    }\n",
       "\n",
       "    .dataframe tbody tr th {\n",
       "        vertical-align: top;\n",
       "    }\n",
       "\n",
       "    .dataframe thead th {\n",
       "        text-align: right;\n",
       "    }\n",
       "</style>\n",
       "<table border=\"1\" class=\"dataframe\">\n",
       "  <thead>\n",
       "    <tr style=\"text-align: right;\">\n",
       "      <th></th>\n",
       "      <th>created_at</th>\n",
       "      <th>like_count_24h</th>\n",
       "      <th>timestamp</th>\n",
       "    </tr>\n",
       "  </thead>\n",
       "  <tbody>\n",
       "    <tr>\n",
       "      <th>0</th>\n",
       "      <td>2022-10-05 14:20:21 UTC</td>\n",
       "      <td>26</td>\n",
       "      <td>2022-10-05 14:20:21+00:00</td>\n",
       "    </tr>\n",
       "    <tr>\n",
       "      <th>1</th>\n",
       "      <td>2022-10-05 14:28:13 UTC</td>\n",
       "      <td>11</td>\n",
       "      <td>2022-10-05 14:28:13+00:00</td>\n",
       "    </tr>\n",
       "    <tr>\n",
       "      <th>2</th>\n",
       "      <td>2022-10-06 07:18:22 UTC</td>\n",
       "      <td>19</td>\n",
       "      <td>2022-10-06 07:18:22+00:00</td>\n",
       "    </tr>\n",
       "    <tr>\n",
       "      <th>3</th>\n",
       "      <td>2022-09-20 11:39:14 UTC</td>\n",
       "      <td>29</td>\n",
       "      <td>2022-09-20 11:39:14+00:00</td>\n",
       "    </tr>\n",
       "    <tr>\n",
       "      <th>4</th>\n",
       "      <td>2022-09-05 10:18:24 UTC</td>\n",
       "      <td>16</td>\n",
       "      <td>2022-09-05 10:18:24+00:00</td>\n",
       "    </tr>\n",
       "  </tbody>\n",
       "</table>\n",
       "</div>"
      ],
      "text/plain": [
       "                created_at  like_count_24h                 timestamp\n",
       "0  2022-10-05 14:20:21 UTC              26 2022-10-05 14:20:21+00:00\n",
       "1  2022-10-05 14:28:13 UTC              11 2022-10-05 14:28:13+00:00\n",
       "2  2022-10-06 07:18:22 UTC              19 2022-10-06 07:18:22+00:00\n",
       "3  2022-09-20 11:39:14 UTC              29 2022-09-20 11:39:14+00:00\n",
       "4  2022-09-05 10:18:24 UTC              16 2022-09-05 10:18:24+00:00"
      ]
     },
     "execution_count": 5,
     "metadata": {},
     "output_type": "execute_result"
    }
   ],
   "source": [
    "train_df['timestamp'] = pd.to_datetime(train_df['created_at'], utc=True)\n",
    "test_df['timestamp'] = pd.to_datetime(test_df['created_at'], utc=True)\n",
    "private_test_df['timestamp'] = pd.to_datetime(private_test_df['created_at'], utc=True)\n",
    "train_df.head()"
   ]
  },
  {
   "attachments": {},
   "cell_type": "markdown",
   "metadata": {},
   "source": [
    "### 資料觀察"
   ]
  },
  {
   "attachments": {},
   "cell_type": "markdown",
   "metadata": {},
   "source": [
    "觀察 train/test/private test 發佈時間的分佈"
   ]
  },
  {
   "attachments": {},
   "cell_type": "markdown",
   "metadata": {},
   "source": [
    "年"
   ]
  },
  {
   "cell_type": "code",
   "execution_count": 6,
   "metadata": {},
   "outputs": [
    {
     "name": "stdout",
     "output_type": "stream",
     "text": [
      " year in train data =  [2022]\n",
      " year in test data =  [2022]\n",
      " year in private_test data =  [2023]\n"
     ]
    }
   ],
   "source": [
    "# 觀察 年份\n",
    "train_year = train_df['timestamp'].dt.year.unique()\n",
    "test_year = test_df['timestamp'].dt.year.unique()\n",
    "private_year = private_test_df['timestamp'].dt.year.unique()\n",
    "print(\" year in train data = \",train_year)\n",
    "print(\" year in test data = \",test_year)\n",
    "print(\" year in private_test data = \",private_year)"
   ]
  },
  {
   "attachments": {},
   "cell_type": "markdown",
   "metadata": {},
   "source": [
    "月"
   ]
  },
  {
   "cell_type": "code",
   "execution_count": 7,
   "metadata": {},
   "outputs": [
    {
     "name": "stdout",
     "output_type": "stream",
     "text": [
      " month in train data =  [10  9]\n",
      " month in test data =  [12 11]\n",
      " month in private_test data =  [2 1]\n"
     ]
    }
   ],
   "source": [
    "# 觀察 月份\n",
    "train_month = train_df['timestamp'].dt.month.unique()\n",
    "test_month = test_df['timestamp'].dt.month.unique()\n",
    "private_month = private_test_df['timestamp'].dt.month.unique()\n",
    "print(\" month in train data = \",train_month)\n",
    "print(\" month in test data = \",test_month)\n",
    "print(\" month in private_test data = \",private_month)"
   ]
  },
  {
   "attachments": {},
   "cell_type": "markdown",
   "metadata": {},
   "source": [
    "日"
   ]
  },
  {
   "cell_type": "code",
   "execution_count": 8,
   "metadata": {},
   "outputs": [
    {
     "name": "stdout",
     "output_type": "stream",
     "text": [
      " day in train data =  [1, 2, 3, 4, 5, 6, 7, 8, 9, 10, 11, 12, 13, 14, 15, 16, 17, 18, 19, 20, 21, 22, 23, 24, 25, 26, 27, 28, 29, 30]\n",
      " day in test data =  [1, 2, 3, 4, 5, 6, 7, 8, 9, 10, 11, 12, 13, 14, 15, 16, 17, 18, 19, 20, 21, 22, 23, 24, 25, 26, 27, 28, 29, 30]\n",
      " day in private_test data =  [1, 2, 3, 4, 5, 6, 7, 8, 9, 10, 11, 12, 13, 14, 15, 16, 17, 18, 19, 20, 21, 22, 23, 24, 25, 26, 27, 28, 29, 30, 31]\n"
     ]
    }
   ],
   "source": [
    "# 觀察 日期\n",
    "train_day = train_df['timestamp'].dt.day.unique()\n",
    "test_day = test_df['timestamp'].dt.day.unique()\n",
    "private_day = private_test_df['timestamp'].dt.day.unique()\n",
    "print(\" day in train data = \",sorted(train_day))\n",
    "print(\" day in test data = \",sorted(test_day))\n",
    "print(\" day in private_test data = \",sorted(private_day))"
   ]
  },
  {
   "attachments": {},
   "cell_type": "markdown",
   "metadata": {},
   "source": [
    "星期 (Monday = 0, Sunday = 6)"
   ]
  },
  {
   "cell_type": "code",
   "execution_count": 9,
   "metadata": {},
   "outputs": [
    {
     "name": "stdout",
     "output_type": "stream",
     "text": [
      " The day of the week in train data =  [0, 1, 2, 3, 4, 5, 6]\n",
      " The day of the week in test data =  [0, 1, 2, 3, 4, 5, 6]\n",
      " The day of the week in private_test data =  [0, 1, 2, 3, 4, 5, 6]\n"
     ]
    }
   ],
   "source": [
    "# 觀察 屬於星期幾\n",
    "train_weekday = train_df['timestamp'].dt.weekday.unique()\n",
    "test_weekday = test_df['timestamp'].dt.weekday.unique()\n",
    "private_weekday = private_test_df['timestamp'].dt.weekday.unique()\n",
    "print(\" The day of the week in train data = \",sorted(train_weekday))\n",
    "print(\" The day of the week in test data = \",sorted(test_weekday))\n",
    "print(\" The day of the week in private_test data = \",sorted(private_weekday))"
   ]
  },
  {
   "attachments": {},
   "cell_type": "markdown",
   "metadata": {},
   "source": [
    "小時"
   ]
  },
  {
   "cell_type": "code",
   "execution_count": 10,
   "metadata": {},
   "outputs": [
    {
     "name": "stdout",
     "output_type": "stream",
     "text": [
      " hour in train data =  [0, 1, 2, 3, 4, 5, 6, 7, 8, 9, 10, 11, 12, 13, 14, 15, 16, 17, 18, 19, 20, 21, 22, 23]\n",
      " hour in test data =  [0, 1, 2, 3, 4, 5, 6, 7, 8, 9, 10, 11, 12, 13, 14, 15, 16, 17, 18, 19, 20, 21, 22, 23]\n",
      " hour in private_test data =  [0, 1, 2, 3, 4, 5, 6, 7, 8, 9, 10, 11, 12, 13, 14, 15, 16, 17, 18, 19, 20, 21, 22, 23]\n"
     ]
    }
   ],
   "source": [
    "# 觀察 幾點發佈文章\n",
    "train_hour = train_df['timestamp'].dt.hour.unique()\n",
    "test_hour = test_df['timestamp'].dt.hour.unique()\n",
    "private_hour = private_test_df['timestamp'].dt.hour.unique()\n",
    "print(\" hour in train data = \",sorted(train_hour))\n",
    "print(\" hour in test data = \",sorted(test_hour))\n",
    "print(\" hour in private_test data = \",sorted(private_hour))"
   ]
  },
  {
   "attachments": {},
   "cell_type": "markdown",
   "metadata": {},
   "source": [
    "### 資料分析 (Train Dataset)"
   ]
  },
  {
   "attachments": {},
   "cell_type": "markdown",
   "metadata": {},
   "source": [
    "針對文章何時發佈 與 文章累積愛心數(Label)的關係 進行分析"
   ]
  },
  {
   "attachments": {},
   "cell_type": "markdown",
   "metadata": {},
   "source": [
    "分析一周內，在星期幾發佈文章能累積到的愛心數會最多"
   ]
  },
  {
   "cell_type": "code",
   "execution_count": 11,
   "metadata": {},
   "outputs": [],
   "source": [
    "train_weekdays = train_df['timestamp'].dt.weekday\n",
    "target = train_df['like_count_24h']"
   ]
  },
  {
   "cell_type": "code",
   "execution_count": 13,
   "metadata": {},
   "outputs": [
    {
     "data": {
      "text/plain": [
       "array([0, 1, 2, 3, 4, 5, 6], dtype=int64)"
      ]
     },
     "execution_count": 13,
     "metadata": {},
     "output_type": "execute_result"
    }
   ],
   "source": [
    "# 取得 train_weekdays 中所有的獨立天數 (0 代表 星期一， 6 代表 星期日)\n",
    "weekdays = np.unique(train_weekdays)\n",
    "weekdays"
   ]
  },
  {
   "cell_type": "code",
   "execution_count": 21,
   "metadata": {},
   "outputs": [
    {
     "data": {
      "text/plain": [
       "[44.23733180647008,\n",
       " 41.509726027397264,\n",
       " 41.74633328677189,\n",
       " 47.06588380716934,\n",
       " 44.579036238472526,\n",
       " 49.94232812262862,\n",
       " 47.88246721709568]"
      ]
     },
     "execution_count": 21,
     "metadata": {},
     "output_type": "execute_result"
    }
   ],
   "source": [
    "# 計算 禮拜幾 對應的 label 平均值\n",
    "mean_label_values = [np.mean(target[train_weekdays == i]) for i in weekdays]\n",
    "mean_label_values"
   ]
  },
  {
   "cell_type": "code",
   "execution_count": 24,
   "metadata": {},
   "outputs": [
    {
     "data": {
      "image/png": "[encoded data removed]",
      "text/plain": [
       "<Figure size 432x288 with 1 Axes>"
      ]
     },
     "metadata": {},
     "output_type": "display_data"
    }
   ],
   "source": [
    "# 繪製 bar 圖\n",
    "import matplotlib.pyplot as plt\n",
    "\n",
    "# 設定圖片標題和軸標籤\n",
    "fig = plt.gcf()\n",
    "fig.patch.set_facecolor('white')\n",
    "plt.title('Relationship between weekday and likes')\n",
    "plt.xlabel('weekday')\n",
    "plt.ylabel('likes')\n",
    "plt.bar(weekdays, mean_label_values)\n",
    "plt.savefig('weekday_likes_relationship.png')"
   ]
  },
  {
   "attachments": {},
   "cell_type": "markdown",
   "metadata": {},
   "source": [
    "分析一天內，在幾點發佈文章能累積到的愛心數會最多"
   ]
  },
  {
   "cell_type": "code",
   "execution_count": 16,
   "metadata": {},
   "outputs": [],
   "source": [
    "train_hours = train_df['timestamp'].dt.hour\n",
    "target = train_df['like_count_24h']"
   ]
  },
  {
   "cell_type": "code",
   "execution_count": 17,
   "metadata": {},
   "outputs": [
    {
     "data": {
      "text/plain": [
       "array([ 0,  1,  2,  3,  4,  5,  6,  7,  8,  9, 10, 11, 12, 13, 14, 15, 16,\n",
       "       17, 18, 19, 20, 21, 22, 23], dtype=int64)"
      ]
     },
     "execution_count": 17,
     "metadata": {},
     "output_type": "execute_result"
    }
   ],
   "source": [
    "hours = np.unique(train_hours)\n",
    "hours"
   ]
  },
  {
   "cell_type": "code",
   "execution_count": 25,
   "metadata": {},
   "outputs": [
    {
     "data": {
      "text/plain": [
       "[38.60815402038505,\n",
       " 43.57735011102887,\n",
       " 48.84759916492693,\n",
       " 41.21453138435081,\n",
       " 48.54094579008074,\n",
       " 45.833090909090906,\n",
       " 46.58767072720561,\n",
       " 46.047309498013725,\n",
       " 42.48750946252839,\n",
       " 48.28932178932179,\n",
       " 45.874150875938504,\n",
       " 45.39677532422012,\n",
       " 45.57400346620451,\n",
       " 40.47008274984086,\n",
       " 43.00029797377831,\n",
       " 37.08437404812671,\n",
       " 44.79598775926556,\n",
       " 48.43251957623215,\n",
       " 48.07142857142857,\n",
       " 51.93457943925234,\n",
       " 46.46771037181996,\n",
       " 45.504731861198735,\n",
       " 49.98677248677249,\n",
       " 83.40684410646388]"
      ]
     },
     "execution_count": 25,
     "metadata": {},
     "output_type": "execute_result"
    }
   ],
   "source": [
    "# 計算 幾點 對應的 label 平均值\n",
    "mean_label_values = [np.mean(target[train_hours == i]) for i in hours]\n",
    "mean_label_values"
   ]
  },
  {
   "cell_type": "code",
   "execution_count": 26,
   "metadata": {},
   "outputs": [
    {
     "data": {
      "image/png": "[encoded data removed]",
      "text/plain": [
       "<Figure size 432x288 with 1 Axes>"
      ]
     },
     "metadata": {},
     "output_type": "display_data"
    }
   ],
   "source": [
    "# 繪製 bar 圖\n",
    "import matplotlib.pyplot as plt\n",
    "\n",
    "# 設定圖片標題和軸標籤\n",
    "fig = plt.gcf()\n",
    "fig.patch.set_facecolor('white')\n",
    "plt.title('Relationship between hours and likes')\n",
    "plt.xlabel('hours')\n",
    "plt.ylabel('likes')\n",
    "plt.bar(hours, mean_label_values)\n",
    "plt.savefig('hours_likes_relationship.png')"
   ]
  }
 ],
 "metadata": {
  "kernelspec": {
   "display_name": "Python 3",
   "language": "python",
   "name": "python3"
  },
  "language_info": {
   "codemirror_mode": {
    "name": "ipython",
    "version": 3
   },
   "file_extension": ".py",
   "mimetype": "text/x-python",
   "name": "python",
   "nbconvert_exporter": "python",
   "pygments_lexer": "ipython3",
   "version": "3.9.13"
  },
  "orig_nbformat": 4
 },
 "nbformat": 4,
 "nbformat_minor": 2
}
